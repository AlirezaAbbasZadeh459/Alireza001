{
  "nbformat": 4,
  "nbformat_minor": 0,
  "metadata": {
    "colab": {
      "provenance": [],
      "authorship_tag": "ABX9TyNMgYk6vgEyfqFcLA1uR+/a",
      "include_colab_link": true
    },
    "kernelspec": {
      "name": "python3",
      "display_name": "Python 3"
    },
    "language_info": {
      "name": "python"
    }
  },
  "cells": [
    {
      "cell_type": "markdown",
      "metadata": {
        "id": "view-in-github",
        "colab_type": "text"
      },
      "source": [
        "<a href=\"https://colab.research.google.com/github/AlirezaAbbasZadeh459/Alireza001/blob/main/TAMRIN_7.ipynb\" target=\"_parent\"><img src=\"https://colab.research.google.com/assets/colab-badge.svg\" alt=\"Open In Colab\"/></a>"
      ]
    },
    {
      "cell_type": "code",
      "execution_count": null,
      "metadata": {
        "id": "UzXsV6yIBmBx"
      },
      "outputs": [],
      "source": [
        "# TAMRIN 1"
      ]
    },
    {
      "cell_type": "code",
      "source": [
        "def FAG(z):\n",
        "    a,b=1,1\n",
        "    print(a)\n",
        "    print(b)\n",
        "    for i in range(z-2):\n",
        "        n=a+b\n",
        "        print(f\"{a}+{b}={n}\")\n",
        "        print(f\"{n}-{b}={a}\")\n",
        "        a,b=b,n\n",
        "FAG(8)"
      ],
      "metadata": {
        "colab": {
          "base_uri": "https://localhost:8080/"
        },
        "id": "Yg8C4WGYLfN_",
        "outputId": "af6a476c-ad84-43a0-a013-8a97c38408c7"
      },
      "execution_count": null,
      "outputs": [
        {
          "output_type": "stream",
          "name": "stdout",
          "text": [
            "1\n",
            "1\n",
            "1+1=2\n",
            "2-1=1\n",
            "1+2=3\n",
            "3-2=1\n",
            "2+3=5\n",
            "5-3=2\n",
            "3+5=8\n",
            "8-5=3\n",
            "5+8=13\n",
            "13-8=5\n",
            "8+13=21\n",
            "21-13=8\n"
          ]
        }
      ]
    },
    {
      "cell_type": "code",
      "source": [
        "def fwz(w):\n",
        "    a=1\n",
        "    b=1\n",
        "    print(a)\n",
        "    print(b)\n",
        "    for i in range(w-2):\n",
        "        if i>=0:\n",
        "            c=a+b\n",
        "            print(f\"{a}+{b}={c}\")\n",
        "            print(f\"{c}-{b}={a}\")\n",
        "            a,b=b,c\n",
        "fwz(8)"
      ],
      "metadata": {
        "colab": {
          "base_uri": "https://localhost:8080/"
        },
        "id": "Bu-FsnoWMi6E",
        "outputId": "2d46e0b9-8823-4dfd-c0e2-ae1e96450dc4"
      },
      "execution_count": null,
      "outputs": [
        {
          "output_type": "stream",
          "name": "stdout",
          "text": [
            "1\n",
            "1\n",
            "1+1=2\n",
            "2-1=1\n",
            "1+2=3\n",
            "3-2=1\n",
            "2+3=5\n",
            "5-3=2\n",
            "3+5=8\n",
            "8-5=3\n",
            "5+8=13\n",
            "13-8=5\n",
            "8+13=21\n",
            "21-13=8\n"
          ]
        }
      ]
    },
    {
      "cell_type": "code",
      "source": [
        "def rsvr (x):\n",
        "    reversed_str = \"\"\n",
        "    for char in x:\n",
        "        reversed_str=char + reversed_str\n",
        "    return reversed_str\n",
        "user_input = input(\"رشته وارد کنید:\")\n",
        "rsvr (user_input)"
      ],
      "metadata": {
        "colab": {
          "base_uri": "https://localhost:8080/",
          "height": 53
        },
        "id": "KXDaN7Tv2Als",
        "outputId": "130e011d-653b-4cf4-e62b-e65ad7f83589"
      },
      "execution_count": 43,
      "outputs": [
        {
          "name": "stdout",
          "output_type": "stream",
          "text": [
            "رشته وارد کنید:amin\n"
          ]
        },
        {
          "output_type": "execute_result",
          "data": {
            "text/plain": [
              "'nima'"
            ],
            "application/vnd.google.colaboratory.intrinsic+json": {
              "type": "string"
            }
          },
          "metadata": {},
          "execution_count": 43
        }
      ]
    },
    {
      "cell_type": "code",
      "source": [
        "def rsxa(x):\n",
        "    result = \"\"\n",
        "    for i in range(len(x)-1,-1,-1):\n",
        "        result += x[i]\n",
        "    return result\n",
        "rsxa(\"amin\")"
      ],
      "metadata": {
        "colab": {
          "base_uri": "https://localhost:8080/",
          "height": 35
        },
        "id": "73x5JUba3c4I",
        "outputId": "a1a3ab5e-fe8a-49db-b85f-423dbe7cc3dc"
      },
      "execution_count": 54,
      "outputs": [
        {
          "output_type": "execute_result",
          "data": {
            "text/plain": [
              "'nima'"
            ],
            "application/vnd.google.colaboratory.intrinsic+json": {
              "type": "string"
            }
          },
          "metadata": {},
          "execution_count": 54
        }
      ]
    }
  ]
}