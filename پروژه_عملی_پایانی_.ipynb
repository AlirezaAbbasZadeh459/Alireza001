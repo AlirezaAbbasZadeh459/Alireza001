{
  "nbformat": 4,
  "nbformat_minor": 0,
  "metadata": {
    "colab": {
      "provenance": [],
      "authorship_tag": "ABX9TyO189BnOfGzLNGgS4psfkKh",
      "include_colab_link": true
    },
    "kernelspec": {
      "name": "python3",
      "display_name": "Python 3"
    },
    "language_info": {
      "name": "python"
    }
  },
  "cells": [
    {
      "cell_type": "markdown",
      "metadata": {
        "id": "view-in-github",
        "colab_type": "text"
      },
      "source": [
        "<a href=\"https://colab.research.google.com/github/AlirezaAbbasZadeh459/Alireza001/blob/main/%D9%BE%D8%B1%D9%88%DA%98%D9%87_%D8%B9%D9%85%D9%84%DB%8C_%D9%BE%D8%A7%DB%8C%D8%A7%D9%86%DB%8C_.ipynb\" target=\"_parent\"><img src=\"https://colab.research.google.com/assets/colab-badge.svg\" alt=\"Open In Colab\"/></a>"
      ]
    },
    {
      "cell_type": "code",
      "source": [
        "def zvr23():\n",
        "    a = int(input(\"add:\"))\n",
        "    months = [\n",
        "        \"January\", \"February\", \"March\", \"April\", \"May\", \"June\",\n",
        "        \"July\", \"August\", \"September\", \"October\", \"November\", \"December\"]\n",
        "    if 1<=a<=12:\n",
        "        for i in range(a - 1,12):\n",
        "            print(months[i])\n",
        "    else:\n",
        "        print(\"عدد بین 1 تا 12 باید باشد\")\n",
        "zvr23()"
      ],
      "metadata": {
        "colab": {
          "base_uri": "https://localhost:8080/"
        },
        "id": "8lwaMC3Y-jAu",
        "outputId": "31817bfa-484e-430f-c285-6cd30c71f325"
      },
      "execution_count": null,
      "outputs": [
        {
          "output_type": "stream",
          "name": "stdout",
          "text": [
            "add:1\n",
            "January\n",
            "February\n",
            "March\n",
            "April\n",
            "May\n",
            "June\n",
            "July\n",
            "August\n",
            "September\n",
            "October\n",
            "November\n",
            "December\n"
          ]
        }
      ]
    },
    {
      "cell_type": "code",
      "source": [
        "def twe():\n",
        "    months = [\n",
        "        \"January\", \"February\", \"March\", \"April\", \"May\", \"June\",\n",
        "        \"July\", \"August\", \"September\", \"October\", \"November\", \"December\"\n",
        "    ]\n",
        "    result = \"\"\n",
        "    for i, month in enumerate(months,start=1):\n",
        "        result += f\"{i}.{month}\\n\"\n",
        "    return result\n",
        "months_text = twe()\n",
        "print(months_text)"
      ],
      "metadata": {
        "colab": {
          "base_uri": "https://localhost:8080/"
        },
        "id": "Fc_tOVhCCTsb",
        "outputId": "28bbfeff-ea58-482c-acf6-c3cd27c04f5c"
      },
      "execution_count": null,
      "outputs": [
        {
          "output_type": "stream",
          "name": "stdout",
          "text": [
            "1.January\n",
            "2.February\n",
            "3.March\n",
            "4.April\n",
            "5.May\n",
            "6.June\n",
            "7.July\n",
            "8.August\n",
            "9.September\n",
            "10.October\n",
            "11.November\n",
            "12.December\n",
            "\n"
          ]
        }
      ]
    }
  ]
}