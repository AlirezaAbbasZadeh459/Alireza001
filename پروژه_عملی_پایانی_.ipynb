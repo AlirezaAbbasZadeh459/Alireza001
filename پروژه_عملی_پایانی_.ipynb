{
  "nbformat": 4,
  "nbformat_minor": 0,
  "metadata": {
    "colab": {
      "provenance": [],
      "authorship_tag": "ABX9TyNiRw2zU/dOXiL0xn7jYaZw",
      "include_colab_link": true
    },
    "kernelspec": {
      "name": "python3",
      "display_name": "Python 3"
    },
    "language_info": {
      "name": "python"
    }
  },
  "cells": [
    {
      "cell_type": "markdown",
      "metadata": {
        "id": "view-in-github",
        "colab_type": "text"
      },
      "source": [
        "<a href=\"https://colab.research.google.com/github/AlirezaAbbasZadeh459/Alireza001/blob/main/%D9%BE%D8%B1%D9%88%DA%98%D9%87_%D8%B9%D9%85%D9%84%DB%8C_%D9%BE%D8%A7%DB%8C%D8%A7%D9%86%DB%8C_.ipynb\" target=\"_parent\"><img src=\"https://colab.research.google.com/assets/colab-badge.svg\" alt=\"Open In Colab\"/></a>"
      ]
    },
    {
      "cell_type": "code",
      "source": [
        "# (1)"
      ],
      "metadata": {
        "id": "8lwaMC3Y-jAu"
      },
      "execution_count": 128,
      "outputs": []
    },
    {
      "cell_type": "code",
      "source": [
        "def zvr23():\n",
        "    a = int(input(\"add:\"))\n",
        "    months = [\n",
        "        \"January\", \"February\", \"March\", \"April\", \"May\", \"June\",\n",
        "        \"July\", \"August\", \"September\", \"October\", \"November\", \"December\"]\n",
        "    if 1<=a<=12:\n",
        "        for i in range(a - 1,12):\n",
        "            print(months[i])\n",
        "    else:\n",
        "        print(\"عدد بین 1 تا 12 باید باشد\")\n",
        "zvr23()"
      ],
      "metadata": {
        "colab": {
          "base_uri": "https://localhost:8080/"
        },
        "id": "1eoBj-sVIHxQ",
        "outputId": "7531bf5b-269c-4f9f-fde2-3b86d8a28189"
      },
      "execution_count": 129,
      "outputs": [
        {
          "output_type": "stream",
          "name": "stdout",
          "text": [
            "add:1\n",
            "January\n",
            "February\n",
            "March\n",
            "April\n",
            "May\n",
            "June\n",
            "July\n",
            "August\n",
            "September\n",
            "October\n",
            "November\n",
            "December\n"
          ]
        }
      ]
    },
    {
      "cell_type": "code",
      "source": [
        "# (2)"
      ],
      "metadata": {
        "id": "H2j5OrD7H2Ns"
      },
      "execution_count": 126,
      "outputs": []
    },
    {
      "cell_type": "code",
      "source": [
        "def twe():\n",
        "    months = [\n",
        "        \"January\", \"February\", \"March\", \"April\", \"May\", \"June\",\n",
        "        \"July\", \"August\", \"September\", \"October\", \"November\", \"December\"\n",
        "    ]\n",
        "    result = \"\"\n",
        "    for i, month in enumerate(months,start=1):\n",
        "        result += f\"{i}.{month}\\n\"\n",
        "    return result\n",
        "months_text = twe()\n",
        "print(months_text)"
      ],
      "metadata": {
        "colab": {
          "base_uri": "https://localhost:8080/"
        },
        "id": "nyK8ypyfHqC1",
        "outputId": "986d20af-f86c-4369-98ef-e1b48f69985e"
      },
      "execution_count": 125,
      "outputs": [
        {
          "output_type": "stream",
          "name": "stdout",
          "text": [
            "1.January\n",
            "2.February\n",
            "3.March\n",
            "4.April\n",
            "5.May\n",
            "6.June\n",
            "7.July\n",
            "8.August\n",
            "9.September\n",
            "10.October\n",
            "11.November\n",
            "12.December\n",
            "\n"
          ]
        }
      ]
    }
  ]
}