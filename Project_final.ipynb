{
  "nbformat": 4,
  "nbformat_minor": 0,
  "metadata": {
    "colab": {
      "provenance": [],
      "authorship_tag": "ABX9TyPVnjZvs4pi+6TriL8n2a70",
      "include_colab_link": true
    },
    "kernelspec": {
      "name": "python3",
      "display_name": "Python 3"
    },
    "language_info": {
      "name": "python"
    }
  },
  "cells": [
    {
      "cell_type": "markdown",
      "metadata": {
        "id": "view-in-github",
        "colab_type": "text"
      },
      "source": [
        "<a href=\"https://colab.research.google.com/github/AlirezaAbbasZadeh459/Alireza001/blob/main/Project_final.ipynb\" target=\"_parent\"><img src=\"https://colab.research.google.com/assets/colab-badge.svg\" alt=\"Open In Colab\"/></a>"
      ]
    },
    {
      "cell_type": "code",
      "source": [
        "# (1)"
      ],
      "metadata": {
        "id": "8lwaMC3Y-jAu"
      },
      "execution_count": null,
      "outputs": []
    },
    {
      "cell_type": "code",
      "source": [
        "def hds2():\n",
        "    a=int(input(\"add:\"))\n",
        "    months = [\"January\",\"February\",\"March\",\"April\",\"May\",\"June\",\n",
        "        \"July\",\"August\",\"September\",\"October\",\"November\",\"December\"]\n",
        "    if 1<=a<=12:\n",
        "        for i in range(a-1,12):\n",
        "            print(months[i])\n",
        "    else:\n",
        "        print (\"add 1&12\")\n",
        "hds2 ()"
      ],
      "metadata": {
        "colab": {
          "base_uri": "https://localhost:8080/"
        },
        "id": "1eoBj-sVIHxQ",
        "outputId": "40bb444e-5fc6-40fe-fba7-ec897dfa6a3c"
      },
      "execution_count": 4,
      "outputs": [
        {
          "output_type": "stream",
          "name": "stdout",
          "text": [
            "add:1\n",
            "January\n",
            "February\n",
            "March\n",
            "April\n",
            "May\n",
            "June\n",
            "July\n",
            "August\n",
            "September\n",
            "October\n",
            "November\n",
            "December\n"
          ]
        }
      ]
    },
    {
      "cell_type": "code",
      "source": [
        "# (2)"
      ],
      "metadata": {
        "id": "H2j5OrD7H2Ns"
      },
      "execution_count": null,
      "outputs": []
    },
    {
      "cell_type": "code",
      "source": [
        "def fyu12():\n",
        "    months=[\"January\",\"February\",\"March\",\"April\",\"May\",\"June\",\n",
        "\"July\",\"August\",\"September\",\"October\",\"November\",\"December\"]\n",
        "    result= \"\"\n",
        "    for i,month in enumerate(months,start=1):\n",
        "        result +=f\"{i}.{month}\\n\"\n",
        "    return result\n",
        "months_text=fyu12()\n",
        "print(months_text)"
      ],
      "metadata": {
        "colab": {
          "base_uri": "https://localhost:8080/"
        },
        "id": "nyK8ypyfHqC1",
        "outputId": "a8d00491-2db2-4387-d866-120101ba7f42"
      },
      "execution_count": 9,
      "outputs": [
        {
          "output_type": "stream",
          "name": "stdout",
          "text": [
            "1.January\n",
            "2.February\n",
            "3.March\n",
            "4.April\n",
            "5.May\n",
            "6.June\n",
            "7.July\n",
            "8.August\n",
            "9.September\n",
            "10.October\n",
            "11.November\n",
            "12.December\n",
            "\n"
          ]
        }
      ]
    }
  ]
}