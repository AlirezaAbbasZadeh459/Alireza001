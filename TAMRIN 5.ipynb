{
  "nbformat": 4,
  "nbformat_minor": 0,
  "metadata": {
    "colab": {
      "provenance": [],
      "authorship_tag": "ABX9TyNmH9OdFhwC8Qj1ifmunUNy",
      "include_colab_link": true
    },
    "kernelspec": {
      "name": "python3",
      "display_name": "Python 3"
    },
    "language_info": {
      "name": "python"
    }
  },
  "cells": [
    {
      "cell_type": "markdown",
      "metadata": {
        "id": "view-in-github",
        "colab_type": "text"
      },
      "source": [
        "<a href=\"https://colab.research.google.com/github/AlirezaAbbasZadeh459/Alireza001/blob/main/TAMRIN%205.ipynb\" target=\"_parent\"><img src=\"https://colab.research.google.com/assets/colab-badge.svg\" alt=\"Open In Colab\"/></a>"
      ]
    },
    {
      "cell_type": "code",
      "source": [
        "# (1)\n",
        "#AlirezaAbbasZadeh"
      ],
      "metadata": {
        "id": "5wW3eQJp-577"
      },
      "execution_count": null,
      "outputs": []
    },
    {
      "cell_type": "code",
      "source": [
        "import math as m\n",
        "def ali (x,y):\n",
        "    y=a=m.exp (x)\n",
        "    print (a)\n",
        "    y=b=m.exp (x)**2\n",
        "    print (b)\n",
        "    c=a/b\n",
        "    print (c)\n",
        "    return c\n",
        "ali(150,10)"
      ],
      "metadata": {
        "colab": {
          "base_uri": "https://localhost:8080/"
        },
        "id": "J_uj2Vz6Bkab",
        "outputId": "b243bf38-ebc9-4f2e-c15a-55e0178c5297"
      },
      "execution_count": null,
      "outputs": [
        {
          "output_type": "stream",
          "name": "stdout",
          "text": [
            "1.3937095806663797e+65\n",
            "1.9424263952412558e+130\n",
            "7.175095973164411e-66\n"
          ]
        },
        {
          "output_type": "execute_result",
          "data": {
            "text/plain": [
              "7.175095973164411e-66"
            ]
          },
          "metadata": {},
          "execution_count": 119
        }
      ]
    },
    {
      "cell_type": "code",
      "source": [
        "a=int(input('add:'))\n",
        "ali (x,y)"
      ],
      "metadata": {
        "colab": {
          "base_uri": "https://localhost:8080/"
        },
        "id": "Jqah9chp_WzW",
        "outputId": "ece629a3-d6af-45e0-85c7-5c4cfe4a7230"
      },
      "execution_count": null,
      "outputs": [
        {
          "output_type": "stream",
          "name": "stdout",
          "text": [
            "add:200\n",
            "2.718281828459045\n",
            "7.3890560989306495\n",
            "0.36787944117144233\n"
          ]
        },
        {
          "output_type": "execute_result",
          "data": {
            "text/plain": [
              "0.36787944117144233"
            ]
          },
          "metadata": {},
          "execution_count": 120
        }
      ]
    },
    {
      "cell_type": "code",
      "source": [
        "def ali (x):\n",
        "    return m.exp(x)/m.exp(x)**2\n",
        "ali (100)"
      ],
      "metadata": {
        "colab": {
          "base_uri": "https://localhost:8080/"
        },
        "id": "uoFNncd8ulXK",
        "outputId": "f3f966a4-da99-405a-d0f4-4e1bbf1ce777"
      },
      "execution_count": null,
      "outputs": [
        {
          "output_type": "execute_result",
          "data": {
            "text/plain": [
              "3.7200759760208356e-44"
            ]
          },
          "metadata": {},
          "execution_count": 116
        }
      ]
    },
    {
      "cell_type": "code",
      "source": [],
      "metadata": {
        "id": "cClzaKqdqR--"
      },
      "execution_count": null,
      "outputs": []
    },
    {
      "cell_type": "code",
      "source": [
        "# (2)"
      ],
      "metadata": {
        "id": "VOG3k_cGCGL-"
      },
      "execution_count": null,
      "outputs": []
    },
    {
      "cell_type": "code",
      "source": [
        "def ali (y,x):\n",
        "    return m.sqrt(y)*m.log(x)"
      ],
      "metadata": {
        "id": "CxEf0hhvCx5S"
      },
      "execution_count": null,
      "outputs": []
    },
    {
      "cell_type": "code",
      "source": [
        "ali (100,12)"
      ],
      "metadata": {
        "colab": {
          "base_uri": "https://localhost:8080/"
        },
        "id": "K2b_r4sCDDxY",
        "outputId": "8393c87b-87f3-4ed7-ede8-ae740182557d"
      },
      "execution_count": null,
      "outputs": [
        {
          "output_type": "execute_result",
          "data": {
            "text/plain": [
              "24.849066497880003"
            ]
          },
          "metadata": {},
          "execution_count": 146
        }
      ]
    },
    {
      "cell_type": "code",
      "source": [
        "import math as m\n",
        "def tab2(x):\n",
        "    a=m.sqrt(x)\n",
        "    print (f\"sqrt(x):{a}\")\n",
        "    b=m.log(x)\n",
        "    print (f\"log(x):{b}\")\n",
        "    c=a*b\n",
        "    print (f\"c=sqrt(x)*log(x):{c}\")\n",
        "    return c\n",
        "tab2(12)"
      ],
      "metadata": {
        "id": "OzyqYtntDlzS",
        "colab": {
          "base_uri": "https://localhost:8080/"
        },
        "outputId": "20293b45-c0b0-45d5-e92b-7847e4c082df"
      },
      "execution_count": null,
      "outputs": [
        {
          "output_type": "stream",
          "name": "stdout",
          "text": [
            "sqrt(x):3.4641016151377544\n",
            "log(x):2.4849066497880004\n",
            "c=sqrt(x)*log(x):8.607969138997158\n"
          ]
        },
        {
          "output_type": "execute_result",
          "data": {
            "text/plain": [
              "8.607969138997158"
            ]
          },
          "metadata": {},
          "execution_count": 148
        }
      ]
    },
    {
      "cell_type": "code",
      "source": [
        "a=int(input('add:'))\n",
        "tab2 (x)"
      ],
      "metadata": {
        "colab": {
          "base_uri": "https://localhost:8080/"
        },
        "id": "8o0ekCKuN03i",
        "outputId": "4b4d9bfc-8cdb-4420-eab3-b35bda8ec6a7"
      },
      "execution_count": null,
      "outputs": [
        {
          "output_type": "stream",
          "name": "stdout",
          "text": [
            "add:120\n",
            "sqrt(x):3.1622776601683795\n",
            "log(x):2.302585092994046\n",
            "c=sqrt(x)*log(x):7.281413400211802\n"
          ]
        },
        {
          "output_type": "execute_result",
          "data": {
            "text/plain": [
              "7.281413400211802"
            ]
          },
          "metadata": {},
          "execution_count": 137
        }
      ]
    },
    {
      "cell_type": "code",
      "source": [],
      "metadata": {
        "id": "B2NqOl5YqQyz"
      },
      "execution_count": null,
      "outputs": []
    },
    {
      "cell_type": "code",
      "source": [
        "# (3)"
      ],
      "metadata": {
        "id": "SblYXZFoXLL_"
      },
      "execution_count": null,
      "outputs": []
    },
    {
      "cell_type": "code",
      "source": [
        "import math as m\n",
        "def top12(y,x):\n",
        "    a=y=1\n",
        "    print(a)\n",
        "    b=y=m.exp(1)+(-x)\n",
        "    print(b)\n",
        "    c=a/b\n",
        "    print(c)\n",
        "    return c\n",
        "top12(13,100)"
      ],
      "metadata": {
        "colab": {
          "base_uri": "https://localhost:8080/"
        },
        "id": "iSE7D-s0GdNW",
        "outputId": "5453f6f4-8a1b-4544-a630-ad075258c6e4"
      },
      "execution_count": null,
      "outputs": [
        {
          "output_type": "stream",
          "name": "stdout",
          "text": [
            "1\n",
            "-97.28171817154096\n",
            "-0.010279423706689245\n"
          ]
        },
        {
          "output_type": "execute_result",
          "data": {
            "text/plain": [
              "-0.010279423706689245"
            ]
          },
          "metadata": {},
          "execution_count": 118
        }
      ]
    },
    {
      "cell_type": "code",
      "source": [
        "def top12(y,x):\n",
        "    return 1/m.exp(-x)\n",
        "top12(13,100)"
      ],
      "metadata": {
        "colab": {
          "base_uri": "https://localhost:8080/"
        },
        "id": "d6nVqI1CH_1b",
        "outputId": "bef991c9-9f9a-42dd-eb74-7696382e53ed"
      },
      "execution_count": null,
      "outputs": [
        {
          "output_type": "execute_result",
          "data": {
            "text/plain": [
              "2.688117141816135e+43"
            ]
          },
          "metadata": {},
          "execution_count": 113
        }
      ]
    },
    {
      "cell_type": "code",
      "source": [
        "def top12(y,x):\n",
        "    return 1/m.exp(-x)\n",
        "y = int(input(\"add y: \"))\n",
        "x = int(input(\"add x: \"))\n",
        "top12(y,x)"
      ],
      "metadata": {
        "colab": {
          "base_uri": "https://localhost:8080/"
        },
        "id": "auGkgI2_JGee",
        "outputId": "6ac94ba8-3bf3-4fcf-e55a-9307074b1700"
      },
      "execution_count": null,
      "outputs": [
        {
          "name": "stdout",
          "output_type": "stream",
          "text": [
            "add y: 13\n",
            "add x: 100\n"
          ]
        },
        {
          "output_type": "execute_result",
          "data": {
            "text/plain": [
              "2.688117141816135e+43"
            ]
          },
          "metadata": {},
          "execution_count": 122
        }
      ]
    },
    {
      "cell_type": "code",
      "source": [
        "a=int(input('add:'))\n",
        "top12(y,x)"
      ],
      "metadata": {
        "colab": {
          "base_uri": "https://localhost:8080/"
        },
        "id": "jc7zDe0XXxl1",
        "outputId": "6be40eba-fa7a-4320-e748-0a7e95edece9"
      },
      "execution_count": null,
      "outputs": [
        {
          "name": "stdout",
          "output_type": "stream",
          "text": [
            "add:124\n"
          ]
        },
        {
          "output_type": "execute_result",
          "data": {
            "text/plain": [
              "2.688117141816135e+43"
            ]
          },
          "metadata": {},
          "execution_count": 116
        }
      ]
    },
    {
      "cell_type": "code",
      "source": [],
      "metadata": {
        "id": "J9TyMb3oqN92"
      },
      "execution_count": null,
      "outputs": []
    },
    {
      "cell_type": "code",
      "source": [
        "# (4)"
      ],
      "metadata": {
        "id": "oFXGttSAKR2V"
      },
      "execution_count": null,
      "outputs": []
    },
    {
      "cell_type": "code",
      "source": [
        "import math as m\n",
        "def top34(w,n,y):\n",
        "    return (1/n)*y-y**1\n",
        "print(top34(100,200,99))"
      ],
      "metadata": {
        "id": "Wij3H9IyKX26",
        "colab": {
          "base_uri": "https://localhost:8080/"
        },
        "outputId": "8ebeb606-66ff-4e5e-b07d-7272740c034f"
      },
      "execution_count": null,
      "outputs": [
        {
          "output_type": "stream",
          "name": "stdout",
          "text": [
            "-98.505\n"
          ]
        }
      ]
    },
    {
      "cell_type": "code",
      "source": [
        "import math as m\n",
        "def top34(w,n,y):\n",
        "    a=w=(1/n)*y\n",
        "    print(a)\n",
        "    b=w=y-y**1\n",
        "    print(b)\n",
        "    return b\n",
        "top34(230,240,100)"
      ],
      "metadata": {
        "colab": {
          "base_uri": "https://localhost:8080/"
        },
        "id": "00sreJUOVEpw",
        "outputId": "340df07f-857a-49ec-ff1e-e5418df8dae6"
      },
      "execution_count": null,
      "outputs": [
        {
          "output_type": "stream",
          "name": "stdout",
          "text": [
            "0.4166666666666667\n",
            "0\n"
          ]
        },
        {
          "output_type": "execute_result",
          "data": {
            "text/plain": [
              "0"
            ]
          },
          "metadata": {},
          "execution_count": 211
        }
      ]
    },
    {
      "cell_type": "code",
      "source": [
        "a=int(input('add:'))\n",
        "top34(w,n,y)"
      ],
      "metadata": {
        "colab": {
          "base_uri": "https://localhost:8080/"
        },
        "id": "rWque9wnXJZs",
        "outputId": "8dc1e4be-362b-48ac-adac-b991b42775da"
      },
      "execution_count": null,
      "outputs": [
        {
          "output_type": "stream",
          "name": "stdout",
          "text": [
            "add:12\n",
            "8.333333333333332\n",
            "0\n"
          ]
        },
        {
          "output_type": "execute_result",
          "data": {
            "text/plain": [
              "0"
            ]
          },
          "metadata": {},
          "execution_count": 146
        }
      ]
    },
    {
      "cell_type": "code",
      "source": [],
      "metadata": {
        "id": "g09UEFaiqJmv"
      },
      "execution_count": null,
      "outputs": []
    },
    {
      "cell_type": "code",
      "source": [
        "# (5)"
      ],
      "metadata": {
        "id": "37quzm9ZYzI5"
      },
      "execution_count": null,
      "outputs": []
    },
    {
      "cell_type": "code",
      "source": [
        "def pop(w,x,y):\n",
        "    w = (x/y)*m.log(x/y)\n",
        "    return w\n",
        "pop(25,20,23)"
      ],
      "metadata": {
        "colab": {
          "base_uri": "https://localhost:8080/"
        },
        "id": "PSNU9z5Fgl35",
        "outputId": "36cb2bf7-8114-46b8-fae1-55b6a9333634"
      },
      "execution_count": 315,
      "outputs": [
        {
          "output_type": "execute_result",
          "data": {
            "text/plain": [
              "-0.12153212380448586"
            ]
          },
          "metadata": {},
          "execution_count": 315
        }
      ]
    },
    {
      "cell_type": "code",
      "source": [
        "import math as m\n",
        "\n",
        "def pop(x,y):\n",
        "    a=w=(x/y)*m.log(x/y)\n",
        "    print(\"a =\",a)\n",
        "    b=w=m.log(x/y)\n",
        "    print(\"b=\",b)\n",
        "    return b\n",
        "x = 10\n",
        "y = 2\n",
        "pop(12,10)"
      ],
      "metadata": {
        "colab": {
          "base_uri": "https://localhost:8080/"
        },
        "id": "O9Fg5mvMobIf",
        "outputId": "922ba1ee-3fe1-4ac6-9ebd-6c4342556911"
      },
      "execution_count": 318,
      "outputs": [
        {
          "output_type": "stream",
          "name": "stdout",
          "text": [
            "a = 0.2187858681527455\n",
            "b= 0.1823215567939546\n"
          ]
        },
        {
          "output_type": "execute_result",
          "data": {
            "text/plain": [
              "0.1823215567939546"
            ]
          },
          "metadata": {},
          "execution_count": 318
        }
      ]
    },
    {
      "cell_type": "code",
      "source": [
        "a=int(input('add:'))\n",
        "pop(w,x,y)"
      ],
      "metadata": {
        "colab": {
          "base_uri": "https://localhost:8080/"
        },
        "id": "k2qZn6jfpoyS",
        "outputId": "87fbe7c1-0528-4d3d-8807-a22da7ef5db3"
      },
      "execution_count": 316,
      "outputs": [
        {
          "name": "stdout",
          "output_type": "stream",
          "text": [
            "add:123\n"
          ]
        },
        {
          "output_type": "execute_result",
          "data": {
            "text/plain": [
              "8.047189562170502"
            ]
          },
          "metadata": {},
          "execution_count": 316
        }
      ]
    }
  ]
}