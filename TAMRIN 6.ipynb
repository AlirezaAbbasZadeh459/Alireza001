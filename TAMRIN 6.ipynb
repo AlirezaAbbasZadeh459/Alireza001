{
  "nbformat": 4,
  "nbformat_minor": 0,
  "metadata": {
    "colab": {
      "provenance": [],
      "authorship_tag": "ABX9TyMS/sh7UR/1Yj1lvbBTouli",
      "include_colab_link": true
    },
    "kernelspec": {
      "name": "python3",
      "display_name": "Python 3"
    },
    "language_info": {
      "name": "python"
    }
  },
  "cells": [
    {
      "cell_type": "markdown",
      "metadata": {
        "id": "view-in-github",
        "colab_type": "text"
      },
      "source": [
        "<a href=\"https://colab.research.google.com/github/AlirezaAbbasZadeh459/Alireza001/blob/main/TAMRIN%206.ipynb\" target=\"_parent\"><img src=\"https://colab.research.google.com/assets/colab-badge.svg\" alt=\"Open In Colab\"/></a>"
      ]
    },
    {
      "cell_type": "code",
      "source": [
        "# AlirezaAbbasZadeh\n",
        "# TAMRIN 6"
      ],
      "metadata": {
        "id": "EjIRu7tr3sYm"
      },
      "execution_count": 40,
      "outputs": []
    },
    {
      "cell_type": "code",
      "source": [
        "def countup(x,y):\n",
        "    print(x)\n",
        "    if(x==y):\n",
        "        return 0\n",
        "    else:\n",
        "        countup(x+1,y)\n",
        "countup (0,10)"
      ],
      "metadata": {
        "colab": {
          "base_uri": "https://localhost:8080/"
        },
        "id": "L9Y-kvbs4Wk6",
        "outputId": "835e4a81-4f0f-4e75-e09f-7ce51df3270d"
      },
      "execution_count": null,
      "outputs": [
        {
          "output_type": "stream",
          "name": "stdout",
          "text": [
            "0\n",
            "1\n",
            "2\n",
            "3\n",
            "4\n",
            "5\n",
            "6\n",
            "7\n",
            "8\n",
            "9\n",
            "10\n"
          ]
        }
      ]
    },
    {
      "cell_type": "code",
      "source": [
        "# (1)\n",
        "import math as m\n",
        "def countdown(x,y):\n",
        "    print(x)\n",
        "    if x==y:\n",
        "        return\n",
        "    else:\n",
        "        countdown(x-1,y)\n",
        "\n",
        "countdown (10,0)"
      ],
      "metadata": {
        "colab": {
          "base_uri": "https://localhost:8080/"
        },
        "id": "gDfisg5P3zzt",
        "outputId": "4a24b882-7cf8-4bb1-a768-099ccc02ed8d"
      },
      "execution_count": 36,
      "outputs": [
        {
          "output_type": "stream",
          "name": "stdout",
          "text": [
            "10\n",
            "9\n",
            "8\n",
            "7\n",
            "6\n",
            "5\n",
            "4\n",
            "3\n",
            "2\n",
            "1\n",
            "0\n"
          ]
        }
      ]
    },
    {
      "cell_type": "code",
      "source": [
        "# (2)\n",
        "import math as m\n",
        "def ali9 (x):\n",
        "    print (x)\n",
        "    if x >= 10:\n",
        "        return x\n",
        "    else:\n",
        "        return -x\n",
        "ali9 (-12)"
      ],
      "metadata": {
        "id": "twY24Jtx4_5a",
        "colab": {
          "base_uri": "https://localhost:8080/"
        },
        "outputId": "77bb6b6c-f202-4cb4-bdf6-b07e471dbd3c"
      },
      "execution_count": 22,
      "outputs": [
        {
          "output_type": "stream",
          "name": "stdout",
          "text": [
            "-12\n"
          ]
        },
        {
          "output_type": "execute_result",
          "data": {
            "text/plain": [
              "12"
            ]
          },
          "metadata": {},
          "execution_count": 22
        }
      ]
    },
    {
      "cell_type": "code",
      "source": [
        "# (3)\n",
        "import math as m\n",
        "def mab1_function(z):\n",
        "    if 0<=z<=1:\n",
        "        return z\n",
        "    else:\n",
        "        print (z)\n",
        "        return 1+m.exp(-z)\n",
        "mab1_function (-13.23)"
      ],
      "metadata": {
        "colab": {
          "base_uri": "https://localhost:8080/"
        },
        "id": "tHyyKArc9dfk",
        "outputId": "250dea82-a611-4491-ec66-93a84125dc6b"
      },
      "execution_count": 39,
      "outputs": [
        {
          "output_type": "stream",
          "name": "stdout",
          "text": [
            "-13.23\n"
          ]
        },
        {
          "output_type": "execute_result",
          "data": {
            "text/plain": [
              "556822.4995753616"
            ]
          },
          "metadata": {},
          "execution_count": 39
        }
      ]
    }
  ]
}